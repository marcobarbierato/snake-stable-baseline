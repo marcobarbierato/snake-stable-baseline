{
 "cells": [
  {
   "cell_type": "code",
   "execution_count": 1,
   "metadata": {},
   "outputs": [],
   "source": [
    "from snakeenv import SnakeEnv, SnakeEnvBonus, SnakeEnvPartial, SnakeEnvPartialBonus"
   ]
  },
  {
   "cell_type": "code",
   "execution_count": 5,
   "metadata": {},
   "outputs": [],
   "source": [
    "import numpy as np"
   ]
  },
  {
   "cell_type": "markdown",
   "metadata": {},
   "source": [
    "To change environments to partial or bonus, change the ```env =``` definition, e.g\n",
    "\n",
    "```env = SnakeEnvPartial(board_size=8, masksize=2)```\n",
    "\n",
    "Note that the cyclic policy doesn't work in the partial env."
   ]
  },
  {
   "cell_type": "markdown",
   "metadata": {},
   "source": [
    "Greedy"
   ]
  },
  {
   "cell_type": "code",
   "execution_count": null,
   "metadata": {},
   "outputs": [],
   "source": [
    "env = SnakeEnv(board_size=8)\n",
    "obs, _ = env.reset()\n",
    "rewards = []\n",
    "nenv=100\n",
    "max_steps=1000"
   ]
  },
  {
   "cell_type": "code",
   "execution_count": 6,
   "metadata": {},
   "outputs": [],
   "source": [
    "for i in range(nenv):\n",
    "  env_reward = 0\n",
    "  for i in range(max_steps):\n",
    "      h=np.nonzero(obs==1)\n",
    "      f=np.nonzero(obs==0)\n",
    "\n",
    "      if not f[0].size: # when can't find fruit\n",
    "          pmoves = []\n",
    "          if not obs[h[0]+1, h[1]]==-1:\n",
    "            pmoves.append(0)\n",
    "          if not obs[h[0]-1, h[1]]==-1:\n",
    "            pmoves.append(2)\n",
    "          if not obs[h[0], h[1]+1]==-1:\n",
    "            pmoves.append(1)\n",
    "          if not obs[h[0], h[1]-1]==-1:\n",
    "            pmoves.append(3)\n",
    "          action = np.random.choice(pmoves)\n",
    "      elif h[0]<f[0]:\n",
    "          action = 0\n",
    "      elif h[0]>f[0]:\n",
    "          action = 2\n",
    "      elif h[1]<f[1]:\n",
    "          action = 1\n",
    "      elif h[1]>f[1]:\n",
    "          action = 3\n",
    "      obs, reward, done, info, _ = env.step(action)\n",
    "      env_reward += reward\n",
    "      if done:\n",
    "        break\n",
    "  obs, _ = env.reset()\n",
    "  rewards.append(env_reward)"
   ]
  },
  {
   "cell_type": "code",
   "execution_count": 7,
   "metadata": {},
   "outputs": [
    {
     "name": "stdout",
     "output_type": "stream",
     "text": [
      "109.78799999999993 3.750132118884729\n"
     ]
    }
   ],
   "source": [
    "print(np.mean(rewards), np.std(rewards,ddof=1))"
   ]
  },
  {
   "cell_type": "markdown",
   "metadata": {},
   "source": [
    "Cyclic"
   ]
  },
  {
   "cell_type": "code",
   "execution_count": 10,
   "metadata": {},
   "outputs": [],
   "source": [
    "env = SnakeEnv(board_size=8)\n",
    "obs, _ = env.reset()\n",
    "rewards = []\n",
    "nenv=100\n",
    "max_steps=1000"
   ]
  },
  {
   "cell_type": "code",
   "execution_count": 11,
   "metadata": {},
   "outputs": [
    {
     "name": "stdout",
     "output_type": "stream",
     "text": [
      "51.22 4.414362921192593\n"
     ]
    }
   ],
   "source": [
    "move_set8=[[-1,-1,-1,-1,-1,-1,-1,-1],\n",
    "[-1,1,1,1,1,1,0,-1],\n",
    "[-1,2,0,3,0,3,0,-1],\n",
    "[-1,2,0,2,0,2,0,-1],\n",
    "[-1,2,0,2,0,2,0,-1],\n",
    "[-1,2,0,2,0,2,0,-1],\n",
    "[-1,2,3,2,3,2,3,-1],\n",
    "[-1,-1,-1,-1,-1,-1,-1,-1]]\n",
    "move_set8 = np.array(move_set8)\n",
    "\n",
    "def get_move_from_board(board):\n",
    "    h=np.nonzero(obs==1)\n",
    "    return move_set8[h[0], h[1] ]\n",
    "\n",
    "for i in range(nenv):\n",
    "  env_reward = 0\n",
    "  for i in range(max_steps):\n",
    "      action = get_move_from_board(obs)\n",
    "      obs, reward, done, info, _ = env.step(action)\n",
    "      env_reward += reward\n",
    "      if done:\n",
    "        break\n",
    "  obs, _ = env.reset()\n",
    "  rewards.append(env_reward)\n",
    "\n",
    "print(np.mean(rewards), np.std(rewards))"
   ]
  }
 ],
 "metadata": {
  "kernelspec": {
   "display_name": "base",
   "language": "python",
   "name": "python3"
  },
  "language_info": {
   "codemirror_mode": {
    "name": "ipython",
    "version": 3
   },
   "file_extension": ".py",
   "mimetype": "text/x-python",
   "name": "python",
   "nbconvert_exporter": "python",
   "pygments_lexer": "ipython3",
   "version": "3.11.5"
  }
 },
 "nbformat": 4,
 "nbformat_minor": 2
}
